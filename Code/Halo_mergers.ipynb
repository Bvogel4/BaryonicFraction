{
 "cells": [
  {
   "cell_type": "code",
   "execution_count": 86,
   "id": "4f7f1f8a6eb483ae",
   "metadata": {
    "ExecuteTime": {
     "end_time": "2025-02-19T20:37:11.630070Z",
     "start_time": "2025-02-19T20:37:10.474073Z"
    }
   },
   "outputs": [],
   "source": [
    "sim_path = '/data/REPOSITORY/e12Gals/h148.cosmo50PLK.3072g3HbwK1BH/h148.cosmo50PLK.3072g3HbwK1BH.003840/ahf_200/h148.cosmo50PLK.3072g3HbwK1BH.003840'\n",
    "import pynbody\n",
    "sim = pynbody.load(sim_path)\n",
    "sim.physical_units()\n",
    "h = sim.halos(halo_numbers='v1')"
   ]
  },
  {
   "cell_type": "code",
   "execution_count": 87,
   "id": "69e1166a8c925c9",
   "metadata": {
    "ExecuteTime": {
     "end_time": "2025-02-19T20:37:54.782453Z",
     "start_time": "2025-02-19T20:37:19.134432Z"
    }
   },
   "outputs": [],
   "source": [
    "halo = h[1]"
   ]
  },
  {
   "cell_type": "markdown",
   "id": "3f43c848c3c22ca4",
   "metadata": {},
   "source": [
    "run halo_mergers.py to generate pickle files\n"
   ]
  },
  {
   "cell_type": "code",
   "execution_count": 88,
   "id": "c4c64c960e884032",
   "metadata": {
    "ExecuteTime": {
     "end_time": "2025-02-19T20:38:30.893985Z",
     "start_time": "2025-02-19T20:38:30.885020Z"
    }
   },
   "outputs": [
    {
     "data": {
      "text/plain": [
       "1"
      ]
     },
     "execution_count": 88,
     "metadata": {},
     "output_type": "execute_result"
    }
   ],
   "source": [
    "halo.properties['halo_number']"
   ]
  },
  {
   "cell_type": "code",
   "execution_count": null,
   "id": "292ddd74268715e2",
   "metadata": {},
   "outputs": [],
   "source": [
    "[-128 -128 -128 -128 -128 -128 -128 -128 -128 -128 -128  -64  -64 -128\n",
    " -128 -128 -128 -128 -128 -128 -128 -128 -128 -128 -256 -128  -96  -32\n",
    " -128 -128 -256]\n"
   ]
  },
  {
   "cell_type": "code",
   "execution_count": 6,
   "id": "ed0a98248107f37a",
   "metadata": {
    "ExecuteTime": {
     "end_time": "2025-02-24T16:44:24.642974Z",
     "start_time": "2025-02-24T16:44:23.741523Z"
    }
   },
   "outputs": [
    {
     "name": "stdout",
     "output_type": "stream",
     "text": [
      "dict_keys([4096, 3968, 3840, 3712, 3584, 3456, 3328, 3200, 3072, 2944, 2816, 2688, 2560, 2432, 2304, 2176, 2048, 1920, 1792, 1664, 1536, 1408, 1280, 1152, 896, 768, 640])\n",
      "dict_keys([4096, 4032, 3936, 3840, 3744, 3648, 3552, 3456, 3360, 3264, 3168, 3072, 2976, 2880, 2784, 2688, 2592, 2496, 2400, 2304, 2208, 2112, 2016, 1920, 1824, 1728, 1632, 1536, 1440, 1344, 1248, 1152, 1056, 960, 864, 768, 672, 640, 512, 384])\n",
      "dict_keys([4096, 4032, 3936, 3840, 3744, 3648, 3552, 3456, 3360, 3264, 3168, 3072, 2976, 2880, 2784, 2688, 2592, 2496, 2400, 2304, 2208, 2112, 2016, 1920, 1824, 1728, 1632, 1536, 1440, 1344, 1248, 1152, 1056, 960, 864, 768, 672, 576, 480, 384, 288, 192])\n",
      "dict_keys([4096, 4032, 3936, 3840, 3744, 3648, 3552, 3456, 3360, 3264, 3168, 3072, 2976, 2880, 2784, 2688, 2592, 2496, 2400, 2304, 2208, 2112, 2016, 1920, 1824, 1728, 1632, 1536, 1440, 1344, 1248, 1152, 1056, 960, 864, 768, 672, 576, 480, 384, 288, 192])\n",
      "dict_keys([4096, 3968, 3840, 3712, 3584, 3456, 3328, 3200, 3072, 2944, 2816, 2688, 2432, 2304, 2176, 2048, 1920, 1536, 1408, 1280, 1152, 1024, 896, 768, 640, 512])\n",
      "dict_keys([4096, 4032, 3936, 3840, 3744, 3648, 3552, 3456, 3360, 3264, 3168, 3072, 2976, 2880, 2784, 2688, 2592, 2496, 2400, 2304, 2208, 2112, 2016, 1920, 1824, 1728, 1632, 1536, 1440, 1344, 1248, 1152, 1056, 960, 864, 768, 672, 576, 480, 384, 288, 192])\n",
      "dict_keys([4096, 4032, 3936, 3840, 3744, 3648, 3552, 3456, 3360, 3264, 3168, 3072, 2976, 2880, 2784, 2688, 2592, 2496, 2400, 2304, 2208, 2112, 2016, 1920, 1824, 1728, 1632, 1536, 1440, 1344, 1248, 1152, 1056, 960, 864, 768, 672, 576, 480, 384, 288, 192])\n",
      "dict_keys([4096, 4032, 3936, 3840, 3744, 3648, 3552, 3456, 3360, 3264, 3168, 3072, 2976, 2880, 2784, 2688, 2592, 2496, 2400, 2304, 2208, 2112, 2016, 1920, 1824, 1728, 1632, 1536, 1440, 1344, 1248, 1152, 1056, 960, 864, 768, 672, 576, 480, 384, 288, 192])\n"
     ]
    }
   ],
   "source": [
    "import pickle\n",
    "#load each simulation's merger history\n",
    "sims = ['cptmarvel','elektra','storm','rogue','h148','h229','h242','h329']\n",
    "#sims = ['cptmarvel','elektra','storm','rogue']\n",
    "\n",
    "all_merger_histories = {}\n",
    "for sim in sims:\n",
    "    with open(f'../DataFiles/{sim}.merger_history.pkl', 'rb') as f:\n",
    "        history_df = pickle.load(f)\n",
    "        print(history_df.keys())\n",
    "        all_merger_histories[sim] = history_df\n",
    "        \n",
    "        \n",
    "# # save to file\n",
    "# with open('all_merger_histories.pkl', 'wb') as f:\n",
    "#     pickle.dump(all_merger_histories, f)\n",
    "#         "
   ]
  },
  {
   "cell_type": "code",
   "execution_count": 7,
   "id": "e7fcf2fd2ac6e6ea",
   "metadata": {
    "ExecuteTime": {
     "end_time": "2025-02-24T16:44:32.418463Z",
     "start_time": "2025-02-24T16:44:32.411092Z"
    }
   },
   "outputs": [
    {
     "name": "stdout",
     "output_type": "stream",
     "text": [
      "cptmarvel: [640, 768, 896, 1152, 1280, 1408, 1536, 1664, 1792, 1920, 2048, 2176, 2304, 2432, 2560, 2688, 2816, 2944, 3072, 3200, 3328, 3456, 3584, 3712, 3840, 3968, 4096]\n",
      "elektra: [384, 512, 640, 672, 768, 864, 960, 1056, 1152, 1248, 1344, 1440, 1536, 1632, 1728, 1824, 1920, 2016, 2112, 2208, 2304, 2400, 2496, 2592, 2688, 2784, 2880, 2976, 3072, 3168, 3264, 3360, 3456, 3552, 3648, 3744, 3840, 3936, 4032, 4096]\n",
      "storm: [192, 288, 384, 480, 576, 672, 768, 864, 960, 1056, 1152, 1248, 1344, 1440, 1536, 1632, 1728, 1824, 1920, 2016, 2112, 2208, 2304, 2400, 2496, 2592, 2688, 2784, 2880, 2976, 3072, 3168, 3264, 3360, 3456, 3552, 3648, 3744, 3840, 3936, 4032, 4096]\n",
      "rogue: [192, 288, 384, 480, 576, 672, 768, 864, 960, 1056, 1152, 1248, 1344, 1440, 1536, 1632, 1728, 1824, 1920, 2016, 2112, 2208, 2304, 2400, 2496, 2592, 2688, 2784, 2880, 2976, 3072, 3168, 3264, 3360, 3456, 3552, 3648, 3744, 3840, 3936, 4032, 4096]\n",
      "h148: [512, 640, 768, 896, 1024, 1152, 1280, 1408, 1536, 1920, 2048, 2176, 2304, 2432, 2688, 2816, 2944, 3072, 3200, 3328, 3456, 3584, 3712, 3840, 3968, 4096]\n",
      "h229: [192, 288, 384, 480, 576, 672, 768, 864, 960, 1056, 1152, 1248, 1344, 1440, 1536, 1632, 1728, 1824, 1920, 2016, 2112, 2208, 2304, 2400, 2496, 2592, 2688, 2784, 2880, 2976, 3072, 3168, 3264, 3360, 3456, 3552, 3648, 3744, 3840, 3936, 4032, 4096]\n",
      "h242: [192, 288, 384, 480, 576, 672, 768, 864, 960, 1056, 1152, 1248, 1344, 1440, 1536, 1632, 1728, 1824, 1920, 2016, 2112, 2208, 2304, 2400, 2496, 2592, 2688, 2784, 2880, 2976, 3072, 3168, 3264, 3360, 3456, 3552, 3648, 3744, 3840, 3936, 4032, 4096]\n",
      "h329: [192, 288, 384, 480, 576, 672, 768, 864, 960, 1056, 1152, 1248, 1344, 1440, 1536, 1632, 1728, 1824, 1920, 2016, 2112, 2208, 2304, 2400, 2496, 2592, 2688, 2784, 2880, 2976, 3072, 3168, 3264, 3360, 3456, 3552, 3648, 3744, 3840, 3936, 4032, 4096]\n"
     ]
    }
   ],
   "source": [
    "#print timesteps of each simulation\n",
    "for sim in all_merger_histories.keys():\n",
    "    print(f'{sim}: {sorted(all_merger_histories[sim].keys())}')\n",
    "    steps = sorted(all_merger_histories[sim].keys())\n",
    "    # for halo in all_merger_histories[sim][steps[0]].keys():\n",
    "    #     print(f'\\t\\t{all_merger_histories[sim][steps[0]][halo]['merger_info']['merger_ratio']}')\n",
    "    #     break\n",
    "    # break\n",
    "\n"
   ]
  },
  {
   "cell_type": "code",
   "execution_count": null,
   "id": "4719c1ed976fd13c",
   "metadata": {},
   "outputs": [],
   "source": [
    "    "
   ]
  },
  {
   "cell_type": "code",
   "execution_count": null,
   "id": "5fc9f7dd2119d0d",
   "metadata": {},
   "outputs": [],
   "source": [
    "for halo in history_df[4096].keys():\n",
    "    # if history_df[4096][halo]['merger_info']['has_merger']:\n",
    "    print(halo)\n",
    "    if history_df[4096][halo]['merger_info']['has_merger']:\n",
    "        main_prog = history_df[4096][halo]['merger_info']['main_progenitor']\n",
    "        stellar_progenitors = history_df[4096][halo]['merger_info']['progenitors']\n",
    "        dark_progenitors = history_df[4096][halo]['merger_info']['dark_progenitors']\n",
    "        print(f'merger ratio: {history_df[4096][halo][\"merger_info\"][\"merger_ratio\"]}, stellar merger ratio: {history_df[4096][halo][\"merger_info\"][\"merger_ratio_stellar_only\"]}')\n",
    "        print(f'Main progenitor: {main_prog}, \\nStellar progenitors: {stellar_progenitors}, \\nDark progenitors: {dark_progenitors}')"
   ]
  },
  {
   "cell_type": "code",
   "execution_count": 354,
   "id": "566a7b89d169e36f",
   "metadata": {
    "ExecuteTime": {
     "end_time": "2025-02-12T23:07:06.317501Z",
     "start_time": "2025-02-12T23:07:06.308268Z"
    }
   },
   "outputs": [
    {
     "name": "stdout",
     "output_type": "stream",
     "text": [
      "Halo 1 at z=0\n",
      "1\n",
      "1\n",
      "Halo 2 at z=0\n",
      "2\n",
      "2\n",
      "Halo 3 at z=0\n",
      "3\n",
      "3\n",
      "Halo 5 at z=0\n",
      "5\n",
      "5\n",
      "Halo 6 at z=0\n",
      "6\n",
      "6\n",
      "Halo 7 at z=0\n",
      "7\n",
      "7\n",
      "Halo 10 at z=0\n",
      "10\n",
      "10\n",
      "Halo 11 at z=0\n",
      "11\n",
      "11\n",
      "Halo 13 at z=0\n",
      "13\n",
      "13\n",
      "Halo 14 at z=0\n",
      "14\n",
      "14\n",
      "Halo 20 at z=0\n",
      "19\n",
      "19\n",
      "Halo 23 at z=0\n",
      "23\n",
      "22\n",
      "Halo 25 at z=0\n",
      "25\n",
      "24\n",
      "Halo 26 at z=0\n",
      "26\n",
      "25\n",
      "Halo 30 at z=0\n",
      "29\n",
      "29\n",
      "Halo 38 at z=0\n",
      "38\n",
      "38\n",
      "Halo 39 at z=0\n",
      "40\n",
      "44\n",
      "Halo 40 at z=0\n",
      "41\n",
      "40\n",
      "Halo 44 at z=0\n",
      "44\n",
      "45\n",
      "Halo 50 at z=0\n",
      "53\n",
      "53\n",
      "Halo 58 at z=0\n",
      "57\n",
      "59\n",
      "Halo 63 at z=0\n",
      "63\n",
      "65\n",
      "Halo 69 at z=0\n",
      "72\n",
      "74\n",
      "Halo 174 at z=0\n",
      "173\n",
      "172\n",
      "Halo 426 at z=0\n",
      "468\n",
      "493\n"
     ]
    }
   ],
   "source": [
    "for halo in history_df[4096].keys():\n",
    "    # if history_df[4096][halo]['merger_info']['has_merger']:\n",
    "    halo_0 = halo\n",
    "    print(f'Halo {halo} at z=0')\n",
    "    for step in history_df.keys():        \n",
    "        time = history_df[step][halo]['final_state']['time']\n",
    "        ratio = history_df[step][halo]['merger_info']['merger_ratio']\n",
    "        snap = history_df[step][halo]['final_state']['snapshot']\n",
    "        \n",
    "        halo = history_df[step][halo]['merger_info']['main_progenitor']\n",
    "        print(halo)\n"
   ]
  },
  {
   "cell_type": "code",
   "execution_count": 211,
   "id": "4173b16d109b29fb",
   "metadata": {
    "ExecuteTime": {
     "end_time": "2025-02-12T23:27:28.888962791Z",
     "start_time": "2025-02-12T00:14:26.580461Z"
    }
   },
   "outputs": [],
   "source": [
    "# Save to file using pickle\n"
   ]
  },
  {
   "cell_type": "code",
   "execution_count": null,
   "id": "6188ce472aaeb032",
   "metadata": {
    "ExecuteTime": {
     "start_time": "2025-02-10T23:27:06.900778Z"
    }
   },
   "outputs": [
    {
     "name": "stdout",
     "output_type": "stream",
     "text": [
      "/data/REPOSITORY/dwarf_volumes/cptmarvel.cosmo25cmb.4096g5HbwK1BH\n",
      "/data/REPOSITORY/dwarf_volumes/cptmarvel.cosmo25cmb.4096g5HbwK1BH/cptmarvel.cosmo25cmb.4096g5HbwK1BH.004096/ahf_200/cptmarvel.cosmo25cmb.4096g5HbwK1BH.004096\n"
     ]
    }
   ],
   "source": [
    "sim_path = '/data/REPOSITORY/dwarf_volumes/cptmarvel.cosmo25cmb.4096g5HbwK1BH/cptmarvel.cosmo25cmb.4096g5HbwK1BH.004096/ahf_200/cptmarvel.cosmo25cmb.4096g5HbwK1BH.004096'\n",
    "#sim_path = '/data/REPOSITORY/dwarf_volumes/cptmarvel.cosmo25cmb.4096g5HbwK1BH/cptmarvel.cosmo25cmb.4096g5HbwK1BH.003968/ahf_200/cptmarvel.cosmo25cmb.4096g5HbwK1BH.003968'\n",
    "\n",
    "# Get merger history for all snapshots\n",
    "history_df = analyze_merger_history(sim_path)\n",
    "\n",
    "# Save to file\n",
    "history_df.to_csv('merger_history.csv', index=False)\n",
    "\n",
    "# Print summary statistics\n",
    "print(\"\\nMerger Statistics:\")\n",
    "print(f\"Total halos analyzed: {len(history_df)}\")\n",
    "print(f\"Halos with mergers: {len(history_df[history_df['has_merger']])}\")\n",
    "print(f\"Average merger ratio: {history_df['merger_ratio'].mean():.2f}\")"
   ]
  },
  {
   "cell_type": "code",
   "execution_count": 9,
   "id": "40f0000da16d6f65",
   "metadata": {
    "ExecuteTime": {
     "end_time": "2025-02-10T22:51:06.449434Z",
     "start_time": "2025-02-10T22:51:06.441471Z"
    }
   },
   "outputs": [
    {
     "data": {
      "text/plain": [
       "'/data/REPOSITORY/dwarf_volumes/cptmarvel.cosmo25cmb.4096g5HbwK1BH/cptmarvel.cosmo25cmb.4096g5HbwK1BH.004096/ahf_200/cptmarvel.cosmo25cmb.4096g5HbwK1BH.004096'"
      ]
     },
     "execution_count": 9,
     "metadata": {},
     "output_type": "execute_result"
    }
   ],
   "source": [
    "'/data/REPOSITORY/dwarf_volumes/cptmarvel.cosmo25cmb.4096g5HbwK1BH/cptmarvel.cosmo25cmb.4096g5HbwK1BH.004096/ahf_200/cptmarvel.cosmo25cmb.4096g5HbwK1BH.004096'"
   ]
  },
  {
   "cell_type": "code",
   "execution_count": 362,
   "id": "7359c3ad4a7af6f7",
   "metadata": {
    "ExecuteTime": {
     "end_time": "2025-02-12T23:11:37.419338Z",
     "start_time": "2025-02-12T23:11:37.407425Z"
    }
   },
   "outputs": [
    {
     "data": {
      "text/plain": [
       "{'final_state': {'mvir': np.float64(15526563030.471205),\n",
       "  'm_star': np.float64(54387631.2577039),\n",
       "  'snapshot': 4096,\n",
       "  'time': 13.731118532104414,\n",
       "  'n_star': np.int64(205466)},\n",
       " 'merger_info': {'has_merger': True,\n",
       "  'dark_merger': False,\n",
       "  'merger_ratio': np.float64(88.64116764876067),\n",
       "  'merger_ratio_stellar_only': np.float64(1041.7163951261484),\n",
       "  'main_progenitor': 1,\n",
       "  'main_progenitor_mvir': np.float64(11259600000.0),\n",
       "  'minor_stellar_mvir': np.float64(10808700.0),\n",
       "  'total_minor_mvir': np.float64(127024500.0),\n",
       "  'progenitors': [1, 397],\n",
       "  'dark_progenitors': [110, 301, 405, 491, 805, 832, 911, 945],\n",
       "  'rejected_minor_progenitors': [],\n",
       "  'rejected_dark_progenitors': [],\n",
       "  'contribution_threshold': 50.0},\n",
       " 'progenitor_details': {'stellar': {1: {'matching_particles': 2624633,\n",
       "    'percent_in_final': 96.49595340487164,\n",
       "    'percent_of_progenitor': 96.91930754857721,\n",
       "    'Mvir': np.float64(11259600000.0),\n",
       "    'n_star': np.int64(203050),\n",
       "    'npart': np.int64(2708060),\n",
       "    'total_particles': 2708060,\n",
       "    'match_type': 'main progenitor'},\n",
       "   397: {'matching_particles': 2368,\n",
       "    'percent_in_final': 0.08706071197867894,\n",
       "    'percent_of_progenitor': 100.0,\n",
       "    'Mvir': np.float64(10808700.0),\n",
       "    'n_star': np.int64(151),\n",
       "    'npart': np.int64(2368),\n",
       "    'total_particles': 2368,\n",
       "    'match_type': 'merger'}},\n",
       "  'dark': {110: {'matching_particles': 12024,\n",
       "    'percent_in_final': 0.44206841251335965,\n",
       "    'percent_of_progenitor': 99.97505612372163,\n",
       "    'Mvir': np.float64(58479900.0),\n",
       "    'n_star': np.int64(0),\n",
       "    'npart': np.int64(12027),\n",
       "    'total_particles': 12027,\n",
       "    'match_type': 'merger'},\n",
       "   301: {'matching_particles': 3226,\n",
       "    'percent_in_final': 0.1186055138696023,\n",
       "    'percent_of_progenitor': 100.0,\n",
       "    'Mvir': np.float64(15686000.0),\n",
       "    'n_star': np.int64(0),\n",
       "    'npart': np.int64(3226),\n",
       "    'total_particles': 3226,\n",
       "    'match_type': 'merger'},\n",
       "   405: {'matching_particles': 2324,\n",
       "    'percent_in_final': 0.08544302983042647,\n",
       "    'percent_of_progenitor': 100.0,\n",
       "    'Mvir': np.float64(11300200.0),\n",
       "    'n_star': np.int64(0),\n",
       "    'npart': np.int64(2324),\n",
       "    'total_particles': 2324,\n",
       "    'match_type': 'merger'},\n",
       "   491: {'matching_particles': 1897,\n",
       "    'percent_in_final': 0.06974415989170353,\n",
       "    'percent_of_progenitor': 99.94731296101159,\n",
       "    'Mvir': np.float64(9228800.0),\n",
       "    'n_star': np.int64(0),\n",
       "    'npart': np.int64(1898),\n",
       "    'total_particles': 1898,\n",
       "    'match_type': 'merger'},\n",
       "   805: {'matching_particles': 1197,\n",
       "    'percent_in_final': 0.04400830753314135,\n",
       "    'percent_of_progenitor': 100.0,\n",
       "    'Mvir': np.float64(5820270.0),\n",
       "    'n_star': np.int64(0),\n",
       "    'npart': np.int64(1197),\n",
       "    'total_particles': 1197,\n",
       "    'match_type': 'merger'},\n",
       "   832: {'matching_particles': 1152,\n",
       "    'percent_in_final': 0.04235385988151949,\n",
       "    'percent_of_progenitor': 100.0,\n",
       "    'Mvir': np.float64(5601460.0),\n",
       "    'n_star': np.int64(0),\n",
       "    'npart': np.int64(1152),\n",
       "    'total_particles': 1152,\n",
       "    'match_type': 'merger'},\n",
       "   911: {'matching_particles': 1020,\n",
       "    'percent_in_final': 0.037500813436762044,\n",
       "    'percent_of_progenitor': 96.49952696310312,\n",
       "    'Mvir': np.float64(5139540.0),\n",
       "    'n_star': np.int64(0),\n",
       "    'npart': np.int64(1057),\n",
       "    'total_particles': 1057,\n",
       "    'match_type': 'merger'},\n",
       "   945: {'matching_particles': 1020,\n",
       "    'percent_in_final': 0.037500813436762044,\n",
       "    'percent_of_progenitor': 100.0,\n",
       "    'Mvir': np.float64(4959630.0),\n",
       "    'n_star': np.int64(0),\n",
       "    'npart': np.int64(1020),\n",
       "    'total_particles': 1020,\n",
       "    'match_type': 'merger'}}}}"
      ]
     },
     "execution_count": 362,
     "metadata": {},
     "output_type": "execute_result"
    }
   ],
   "source": [
    "history_df[4096][1]"
   ]
  },
  {
   "cell_type": "code",
   "execution_count": 245,
   "id": "a27cdd65865db893",
   "metadata": {
    "ExecuteTime": {
     "end_time": "2025-02-12T17:40:53.911051Z",
     "start_time": "2025-02-12T17:40:53.901375Z"
    }
   },
   "outputs": [
    {
     "data": {
      "text/plain": [
       "{'final_state': {'mvir': np.float64(5736290739.146346),\n",
       "  'm_star': np.float64(3834294.9876653515),\n",
       "  'snapshot': 1920,\n",
       "  'time': 6.442307881078892,\n",
       "  'n_star': np.int64(14351)},\n",
       " 'merger_info': {'has_merger': True,\n",
       "  'merger_ratio': np.float64(5.737772998454403),\n",
       "  'merger_ratio_stellar_only': np.float64(5.969085667121387),\n",
       "  'merger_ratio_with_dark': np.float64(5.737772998454403),\n",
       "  'main_progenitor': 3,\n",
       "  'main_progenitor_mvir': np.float64(4165610000.0),\n",
       "  'total_stellar_mvir': np.float64(697864000.0),\n",
       "  'total_dark_mvir': np.float64(28133700.0),\n",
       "  'progenitors': [13],\n",
       "  'dark_progenitors': [249, 620],\n",
       "  'rejected_minor_progenitors': [],\n",
       "  'rejected_dark_progenitors': [637],\n",
       "  'contribution_threshold': 50.0},\n",
       " 'progenitor_details': {'stellar': {3: {'matching_particles': 993257,\n",
       "    'percent_in_final': 90.7441193748407,\n",
       "    'percent_of_progenitor': 90.87745879778181,\n",
       "    'Mvir': np.float64(4165610000.0),\n",
       "    'n_star': np.int64(14301),\n",
       "    'total_particles': 1092963,\n",
       "    'match_type': 'main progenitor'},\n",
       "   13: {'matching_particles': 182089,\n",
       "    'percent_in_final': 16.635680345414496,\n",
       "    'percent_of_progenitor': 99.8065138509773,\n",
       "    'Mvir': np.float64(697864000.0),\n",
       "    'n_star': np.int64(5326),\n",
       "    'total_particles': 182442,\n",
       "    'match_type': 'merger'}},\n",
       "  'dark': {249: {'matching_particles': 4231,\n",
       "    'percent_in_final': 0.38654484093739183,\n",
       "    'percent_of_progenitor': 100.0,\n",
       "    'Mvir': np.float64(20572700.0),\n",
       "    'n_star': np.int64(0),\n",
       "    'total_particles': 4231,\n",
       "    'match_type': 'merger'},\n",
       "   620: {'matching_particles': 1529,\n",
       "    'percent_in_final': 0.139689686077351,\n",
       "    'percent_of_progenitor': 98.32797427652733,\n",
       "    'Mvir': np.float64(7561000.0),\n",
       "    'n_star': np.int64(0),\n",
       "    'total_particles': 1555,\n",
       "    'match_type': 'merger'},\n",
       "   637: {'matching_particles': 525,\n",
       "    'percent_in_final': 0.04796408449353125,\n",
       "    'percent_of_progenitor': 34.72222222222222,\n",
       "    'Mvir': np.float64(7351920.0),\n",
       "    'n_star': np.int64(0),\n",
       "    'total_particles': 1512,\n",
       "    'match_type': 'unknown'}}}}"
      ]
     },
     "execution_count": 245,
     "metadata": {},
     "output_type": "execute_result"
    }
   ],
   "source": [
    "history_df[1792+128][3]"
   ]
  },
  {
   "cell_type": "code",
   "execution_count": 361,
   "id": "711af0d3e869eaf4",
   "metadata": {
    "ExecuteTime": {
     "end_time": "2025-02-12T23:10:54.798411Z",
     "start_time": "2025-02-12T23:10:54.786936Z"
    }
   },
   "outputs": [
    {
     "name": "stdout",
     "output_type": "stream",
     "text": [
      "Halo 1 at z=0\n",
      "\t:4096 13.73 Gyr, 88.64\n",
      "\t\tProgenitors: [1, 397], Dark Progenitors: [110, 301, 405, 491, 805, 832, 911, 945]\n",
      "\t:3968 13.30 Gyr, 85.24\n",
      "\t\tProgenitors: [1, 383], Dark Progenitors: [108, 282, 403, 482, 770, 827, 901, 925]\n",
      "Halo 2 at z=0\n",
      "\t:4096 13.73 Gyr, 20.17\n",
      "\t\tProgenitors: [2], Dark Progenitors: [32, 150, 216, 250, 421, 429, 488, 615, 702, 803]\n",
      "\t:3968 13.30 Gyr, 37.85\n",
      "\t\tProgenitors: [2], Dark Progenitors: [120, 148, 210, 243, 380, 408, 458, 492, 681, 791]\n",
      "Halo 3 at z=0\n",
      "\t:4096 13.73 Gyr, 18.08\n",
      "\t\tProgenitors: [3, 135], Dark Progenitors: [46, 95, 180, 555, 597, 624, 640, 789, 802]\n",
      "\t:3968 13.30 Gyr, 12.29\n",
      "\t\tProgenitors: [3, 131], Dark Progenitors: [32, 41, 481, 578, 596, 607, 754, 782, 830]\n",
      "Halo 5 at z=0\n",
      "\t:4096 13.73 Gyr, 70.83\n",
      "\t\tProgenitors: [5], Dark Progenitors: [303, 307, 309, 535, 792, 793, 856, 870]\n",
      "\t:3968 13.30 Gyr, 69.28\n",
      "\t\tProgenitors: [5, 966], Dark Progenitors: [305, 306, 308, 517, 745, 779, 838]\n",
      "Halo 6 at z=0\n",
      "\t:4096 13.73 Gyr, 22.06\n",
      "\t\tProgenitors: [6], Dark Progenitors: [63, 91, 218, 629, 660, 696]\n",
      "\t:3968 13.30 Gyr, 19.16\n",
      "\t\tProgenitors: [6], Dark Progenitors: [65, 91, 216, 257, 638, 660, 663]\n",
      "Halo 7 at z=0\n",
      "\t:4096 13.73 Gyr, 71.25\n",
      "\t\tProgenitors: [7], Dark Progenitors: [196, 343, 453]\n",
      "\t:3968 13.30 Gyr, 114.73\n",
      "\t\tProgenitors: [7], Dark Progenitors: [314, 436, 697]\n",
      "Halo 10 at z=0\n",
      "\t:4096 13.73 Gyr, 23.96\n",
      "\t\tProgenitors: [10], Dark Progenitors: [74, 322, 928]\n",
      "\t:3968 13.30 Gyr, 23.21\n",
      "\t\tProgenitors: [10], Dark Progenitors: [72, 318, 915]\n",
      "Halo 11 at z=0\n",
      "\t:4096 13.73 Gyr, 261.33\n",
      "\t\tProgenitors: [11], Dark Progenitors: [681]\n",
      "\t:3968 13.30 Gyr, 161.03\n",
      "\t\tProgenitors: [11], Dark Progenitors: [661, 946]\n",
      "Halo 13 at z=0\n",
      "\t:4096 13.73 Gyr, 98.35\n",
      "\t\tProgenitors: [13], Dark Progenitors: [663, 743]\n",
      "\t:3968 13.30 Gyr, 95.62\n",
      "\t\tProgenitors: [13], Dark Progenitors: [662, 714]\n",
      "Halo 14 at z=0\n",
      "\t:4096 13.73 Gyr, 7.64\n",
      "\t\tProgenitors: [14], Dark Progenitors: [70, 186, 207, 458]\n",
      "\t:3968 13.30 Gyr, 6.28\n",
      "\t\tProgenitors: [14], Dark Progenitors: [66, 169, 196, 259, 455]\n",
      "Halo 20 at z=0\n",
      "Halo 23 at z=0\n",
      "Halo 25 at z=0\n",
      "\t:4096 13.73 Gyr, 27.38\n",
      "\t\tProgenitors: [], Dark Progenitors: [25, 454]\n",
      "\t:3968 13.30 Gyr, 19.56\n",
      "\t\tProgenitors: [], Dark Progenitors: [24, 332]\n",
      "Halo 26 at z=0\n",
      "Halo 30 at z=0\n",
      "Halo 38 at z=0\n",
      "Halo 39 at z=0\n",
      "\t:4096 13.73 Gyr, 35.92\n",
      "\t\tProgenitors: [], Dark Progenitors: [40, 808]\n",
      "\t:3968 13.30 Gyr, 34.69\n",
      "\t\tProgenitors: [], Dark Progenitors: [44, 807]\n",
      "Halo 40 at z=0\n",
      "Halo 44 at z=0\n",
      "Halo 50 at z=0\n",
      "Halo 58 at z=0\n",
      "Halo 63 at z=0\n",
      "Halo 69 at z=0\n",
      "Halo 174 at z=0\n",
      "Halo 426 at z=0\n"
     ]
    }
   ],
   "source": [
    "steps = sorted(history_df.keys(), reverse=True)\n",
    "\n",
    "\n",
    "\n",
    "for halo_0 in history_df[4096].keys():\n",
    "    halo = halo_0\n",
    "    print(f'Halo {halo} at z=0')\n",
    "    for step in steps:\n",
    "        time = history_df[step][halo]['final_state']['time']\n",
    "        ratio = history_df[step][halo]['merger_info']['merger_ratio']\n",
    "        snap = history_df[step][halo]['final_state']['snapshot']\n",
    "        if ratio:\n",
    "            print(f'\\t:{snap} {time:.2f} Gyr, {ratio:.2f}')\n",
    "            progenitors = history_df[step][halo]['merger_info']['progenitors']\n",
    "            dark_progenitors = history_df[step][halo]['merger_info']['dark_progenitors']\n",
    "            #print current halo\n",
    "\n",
    "            #print involved halos\n",
    "            print(f'\\t\\tProgenitors: {progenitors}, Dark Progenitors: {dark_progenitors}')\n",
    "        \n",
    "        halo = history_df[step][halo]['merger_info']['main_progenitor']\n",
    "    "
   ]
  },
  {
   "cell_type": "code",
   "execution_count": 335,
   "id": "9e490214b8598098",
   "metadata": {
    "ExecuteTime": {
     "end_time": "2025-02-12T21:45:46.141121Z",
     "start_time": "2025-02-12T21:45:46.130854Z"
    }
   },
   "outputs": [
    {
     "name": "stdout",
     "output_type": "stream",
     "text": [
      "Halo 1 at z=0\n",
      "Halo 2 at z=0\n",
      "Halo 3 at z=0\n",
      "Halo 5 at z=0\n",
      "Halo 6 at z=0\n",
      "Halo 7 at z=0\n",
      "Halo 10 at z=0\n",
      "Halo 11 at z=0\n",
      "Halo 13 at z=0\n",
      "Halo 14 at z=0\n",
      "\t:4096 13.73 Gyr, 7.64\n",
      "\t\tProgenitors: [14]\n",
      "Halo 20 at z=0\n",
      "Halo 23 at z=0\n",
      "Halo 25 at z=0\n",
      "Halo 26 at z=0\n",
      "Halo 30 at z=0\n",
      "Halo 38 at z=0\n",
      "Halo 39 at z=0\n",
      "Halo 40 at z=0\n",
      "Halo 44 at z=0\n",
      "Halo 50 at z=0\n",
      "Halo 58 at z=0\n",
      "Halo 63 at z=0\n",
      "Halo 69 at z=0\n",
      "Halo 174 at z=0\n",
      "Halo 426 at z=0\n"
     ]
    }
   ],
   "source": [
    "steps = sorted(history_df.keys(), reverse=True)\n",
    "\n",
    "\n",
    "\n",
    "for halo_0 in history_df[4096].keys():\n",
    "    halo = halo_0\n",
    "    print(f'Halo {halo} at z=0')\n",
    "    for step in steps:\n",
    "        time = history_df[step][halo]['final_state']['time']\n",
    "        ratio = history_df[step][halo]['merger_info']['merger_ratio']\n",
    "        snap = history_df[step][halo]['final_state']['snapshot']\n",
    "        if ratio:\n",
    "            if ratio < 10:\n",
    "                print(f'\\t:{snap} {time:.2f} Gyr, {ratio:.2f}')\n",
    "                #print current halo\n",
    "\n",
    "                #print involved halos\n",
    "                print(f'\\t\\tProgenitors: {list(history_df[step][halo][\"progenitor_details\"][\"stellar\"].keys())}')\n",
    "        \n",
    "        halo = history_df[step][halo]['merger_info']['main_progenitor']"
   ]
  },
  {
   "cell_type": "code",
   "execution_count": null,
   "id": "9dabf77b022566b2",
   "metadata": {},
   "outputs": [],
   "source": [
    "steps = sorted(history_df.keys(), reverse=True)\n",
    "\n",
    "\n",
    "\n",
    "for halo_0 in history_df[4096].keys():\n",
    "    halo = halo_0\n",
    "    print(f'Halo {halo} at z=0')\n",
    "    for step in steps:\n",
    "        time = history_df[step][halo]['final_state']['time']\n",
    "        ratio = history_df[step][halo]['merger_info']['merger_ratio_stellar_only']\n",
    "        snap = history_df[step][halo]['final_state']['snapshot']\n",
    "        if ratio:\n",
    "            if ratio < 10:\n",
    "                print(f'\\t:{snap} {time:.2f} Gyr, {ratio:.2f}')\n",
    "                #print current halo\n",
    "\n",
    "                #print involved halos\n",
    "                print(f'\\t\\tProgenitors: {list(history_df[step][halo][\"progenitor_details\"][\"stellar\"].keys())}')\n",
    "        \n",
    "        halo = history_df[step][halo]['merger_info']['main_progenitor']"
   ]
  },
  {
   "cell_type": "code",
   "execution_count": null,
   "id": "b3e5bd91f3e44f55",
   "metadata": {},
   "outputs": [],
   "source": [
    "#follow the main progenitor of a halo at redshift z=0, and plot the evolution of the mass of the main progenitor, plot the merger ratio as a function of redshift\n",
    "import matplotlib.pyplot as plt\n",
    "\n",
    "steps = sorted(history_df.keys(), reverse=True)\n",
    "for halo in history_df[4096].keys():\n",
    "    fig, ax = plt.subplots(1, 2, figsize=(12, 6))\n",
    "    print(f'Halo {halo} at z=0')\n",
    "    halo_0 = halo\n",
    "    \n",
    "    masses = []\n",
    "    ratios = []\n",
    "    \n",
    "    for step in steps:\n",
    "        print('\\t',step,history_df[step][halo]['merger_info']['merger_ratio_stellar_only'])\n",
    "        masses.append(history_df[step][halo]['final_state']['mvir'])\n",
    "        ratios.append(history_df[step][halo]['merger_info']['merger_ratio_stellar_only'])\n",
    "        \n",
    "        halo = history_df[step][halo]['merger_info']['main_progenitor']\n",
    "    \n",
    "    ax[0].scatter(steps, masses, label=f'Halo {halo_0}')\n",
    "    ax[1].scatter(steps, ratios, label=f'Halo {halo_0}')\n",
    "    \n",
    "    #plot major merger threshold\n",
    "    ax[1].axhline(y=4, color='r', linestyle='--')\n",
    "    #title\n",
    "    fig.suptitle(f'Halo {halo_0}')\n",
    "    \n",
    "    ax[0].set_xlabel('Snapshot')\n",
    "    ax[0].set_ylabel('Mvir')\n",
    "    ax[0].set_title('Main Progenitor Mass Evolution')\n",
    "    \n",
    "    #log y scale\n",
    "    ax[0].set_yscale('log')\n",
    "    ax[1].set_yscale('log')\n",
    "    #limit y axes for ratios\n",
    "    ax[1].set_ylim(0.5, 100)\n",
    "    ax[0].set_ylim(1e8, 1e11)\n",
    "    \n",
    "    ax[0].legend()\n",
    "\n",
    "        \n",
    "        \n",
    "        \n",
    "\n"
   ]
  },
  {
   "cell_type": "code",
   "execution_count": null,
   "id": "1d7ad712dc24e610",
   "metadata": {},
   "outputs": [],
   "source": []
  },
  {
   "cell_type": "code",
   "execution_count": 14,
   "id": "a031c88b0620e0fc",
   "metadata": {
    "ExecuteTime": {
     "end_time": "2025-02-13T16:08:41.573127Z",
     "start_time": "2025-02-13T16:08:41.562258Z"
    }
   },
   "outputs": [
    {
     "name": "stdout",
     "output_type": "stream",
     "text": [
      "[4096, 3968, 3840, 3712, 3584, 3456, 3328, 3200, 3072, 2944, 2816, 2688, 2560, 2432, 2304, 2176, 2048, 1920, 1792, 1664, 1536, 1408, 1280, 1152, 896, 768, 640]\n",
      "[4032, 3936, 3840, 3744, 3648, 3552, 3456, 3360, 3264, 3168, 3072, 2976, 2880, 2784, 2688, 2592, 2496, 2400, 2304, 2208, 2112, 2016, 1920, 1824, 1728, 1632, 1536, 1440, 1344, 1248, 1152, 1056, 960, 864, 768, 672]\n",
      "[]\n",
      "[]\n"
     ]
    }
   ],
   "source": [
    "#create new dict that shows major mergers only with mass ratio < 4\n",
    "major_mergers = {}\n",
    "for sim in sims:\n",
    "    history_df = all_merger_histories[sim]\n",
    "    steps = sorted(history_df.keys(), reverse=True)\n",
    "    print(steps)\n",
    "    continue\n",
    "\n",
    "    for halo in history_df[4096].keys():\n",
    "        halo_0 = halo\n",
    "        \n",
    "        \n",
    "        masses = []\n",
    "        ratios = []\n",
    "        snaps = []\n",
    "        times = []\n",
    "        for step in steps:\n",
    "            # try:\n",
    "            #     print(f'{history_df[step][halo]}')\n",
    "            # except:\n",
    "            #     print(f'missing halo {halo} at step {step}')\n",
    "            #     break\n",
    "            # if history_df[step][halo]['merger_info']['has_merger']:\n",
    "            #     ratio = history_df[step][halo]['merger_info']['merger_ratio']\n",
    "            #     #ratio = history_df[step][halo]['merger_info']['merger_ratio_stellar_only']\n",
    "            #     if ratio and ratio < 4:\n",
    "            #         print('\\t',step,ratio)\n",
    "            #         masses.append(history_df[step][halo]['final_state']['mvir'])\n",
    "            #         ratios.append(ratio)        \n",
    "            #         snaps.append(step)\n",
    "            #         times.append(history_df[step][halo]['final_state']['time'])\n",
    "                    \n",
    "            try:\n",
    "                halo = history_df[step][halo]['merger_info']['main_progenitor']\n",
    "                if halo == None:\n",
    "                    break\n",
    "            except:\n",
    "                print(f'missing main progenitor for halo {halo} at step {step}')\n",
    "                break\n",
    "        \n",
    "        if len(ratios) > 0:   \n",
    "            major_mergers[halo_0] = {'masses': masses, 'ratios': ratios, 'snaps': snaps, 'times': times}\n"
   ]
  },
  {
   "cell_type": "code",
   "execution_count": 8,
   "id": "b8ed4f0038519bb2",
   "metadata": {
    "ExecuteTime": {
     "end_time": "2025-02-24T16:44:55.143928Z",
     "start_time": "2025-02-24T16:44:52.318035Z"
    }
   },
   "outputs": [
    {
     "name": "stdout",
     "output_type": "stream",
     "text": [
      "Number of halos: 410\n",
      "{'ratios': [np.float64(18.08408186583019), np.float64(12.289630627145902), np.float64(11.741803891479291), np.float64(10.346678343142127), np.float64(9.80509592747555), np.float64(14.269006630810768), np.float64(13.78911280312367), np.float64(15.102930889616488), np.float64(12.573781327189648), np.float64(10.239858525867058), np.float64(8.595844796371695), np.float64(96.88875508814367), np.float64(110.32986459881876), np.float64(21.483695231629234), np.float64(14.668442662810218), np.float64(11.193110548823764), np.float64(7.855157882351339), np.float64(5.737772998454403), np.float64(9.02581290717077), np.float64(2.5857552377279633), np.float64(33.62155568579469), np.float64(128.97903339639558), np.float64(49.60936261275786), np.float64(19.18837498643285), np.float64(15.235217231866658), np.float64(24.64306004647858)], 'times': [13.731118532104414, 13.30236496438336, 12.8736113966623, 12.444857828941286, 12.016104261220233, 11.587350693499195, 11.158597125778149, 10.72984355805712, 10.30108999033608, 9.872336422615032, 9.443582854913105, 9.014829287225373, 8.586075719539085, 8.157322151850092, 7.728568584163578, 7.299815016474571, 6.8710614487787165, 6.442307881078892, 6.013554313387082, 5.584800745683497, 5.1560471779798815, 4.727293610283739, 4.2985400425979305, 3.869786474911925, 3.0122793395365672, 2.5835257718458586]}\n",
      "saving major mergers to <_io.BufferedWriter name='../DataFiles/major_mergers_all.pkl'>\n",
      "Number of halos: 410\n",
      "{'ratios': [np.float64(148.59771739997947), np.float64(143.76225975356357), np.float64(136.51261937244203), np.float64(125.91853808630994), np.float64(116.58640716950651), np.float64(103.5454139651342), np.float64(84.3592273405983), np.float64(80.89842562762142), np.float64(77.76669215615638), np.float64(50.668281757096494), np.float64(27.012621322933928), np.float64(12.855002094224593), np.float64(8.445749693409928), np.float64(5.969085667121387), np.float64(9.865829546637066), np.float64(2.717945784109004)], 'times': [13.731118532104414, 13.30236496438336, 12.8736113966623, 12.444857828941286, 12.016104261220233, 11.587350693499195, 11.158597125778149, 10.72984355805712, 10.30108999033608, 8.157322151850092, 7.728568584163578, 7.299815016474571, 6.8710614487787165, 6.442307881078892, 6.013554313387082, 5.584800745683497]}\n",
      "saving major mergers to <_io.BufferedWriter name='../DataFiles/major_mergers_hybrid.pkl'>\n",
      "Number of halos: 410\n",
      "{'ratios': [np.float64(148.59771739997947), np.float64(143.76225975356357), np.float64(136.51261937244203), np.float64(125.91853808630994), np.float64(116.58640716950651), np.float64(103.5454139651342), np.float64(84.3592273405983), np.float64(80.89842562762142), np.float64(77.76669215615638), np.float64(50.668281757096494), np.float64(27.012621322933928), np.float64(12.855002094224593), np.float64(8.445749693409928), np.float64(5.969085667121387), np.float64(9.865829546637066), np.float64(2.717945784109004)], 'times': [13.731118532104414, 13.30236496438336, 12.8736113966623, 12.444857828941286, 12.016104261220233, 11.587350693499195, 11.158597125778149, 10.72984355805712, 10.30108999033608, 8.157322151850092, 7.728568584163578, 7.299815016474571, 6.8710614487787165, 6.442307881078892, 6.013554313387082, 5.584800745683497]}\n",
      "saving major mergers to <_io.BufferedWriter name='../DataFiles/major_mergers_stellar_only.pkl'>\n"
     ]
    },
    {
     "data": {
      "image/png": "[encoded data removed]",
      "text/plain": [
       "<Figure size 1200x1200 with 1 Axes>"
      ]
     },
     "metadata": {},
     "output_type": "display_data"
    }
   ],
   "source": [
    "#create histograms of time of last major mergers for all simulations and all halos\n",
    "import numpy as np\n",
    "import matplotlib.pyplot as plt\n",
    "\n",
    "def plot_hist_last_major_mergers(all_merger_histories,type='stellar_only'):\n",
    "    #calculate the time of last major merger for each halo\n",
    "    major_mergers = {}\n",
    "    \n",
    "    #consider 3 different requirements for a major merger:\n",
    "    #1. stellar only\n",
    "    #2. include everything, stars and dark matter\n",
    "    #3. hybrid, for halos that are dark at z=0, use everything, otherwise use stellar only\n",
    "\n",
    "    \n",
    "    if type == 'stellar_only':\n",
    "        merger_string = 'merger_ratio_stellar_only'\n",
    "    elif type == 'all':\n",
    "        merger_string = 'merger_ratio'\n",
    "    elif type == 'hybrid':\n",
    "        merger_string = 'merger_ratio'\n",
    "    nhalos = 0\n",
    "\n",
    "    for sim in all_merger_histories.keys():\n",
    "        major_mergers[sim] = {}\n",
    "        steps = sorted(all_merger_histories[sim].keys(), reverse=True)\n",
    "        for halo in all_merger_histories[sim][steps[0]].keys():\n",
    "            nhalos += 1\n",
    "            halo_0 = halo\n",
    "            #is halo dark?\n",
    "            halo_dark = all_merger_histories[sim][steps[0]][halo]['final_state']['n_star'] == 0\n",
    "            ratios = []\n",
    "            times = []\n",
    "            #loop through time steps to find the most recent major merger\n",
    "            for step in steps:\n",
    "                #print('\\t',sim,step,halo,all_merger_histories[sim][step][halo]['merger_info']['main_progenitor'])\n",
    "                if all_merger_histories[sim][step][halo]['merger_info'][merger_string]:\n",
    "                    #if all_merger_histories[sim][step][halo]['merger_info'][merger_string] < 4:\n",
    "                        if (type == 'stellar_only') or (type == 'all'):\n",
    "                            times.append(all_merger_histories[sim][step][halo]['final_state']['time'])\n",
    "                            ratios.append(all_merger_histories[sim][step][halo]['merger_info'][merger_string])\n",
    "                            \n",
    "                        if type == 'hybrid':\n",
    "                            if halo_dark:\n",
    "                                times.append(all_merger_histories[sim][step][halo]['final_state']['time'])\n",
    "                                ratios.append(all_merger_histories[sim][step][halo]['merger_info'][merger_string])                             \n",
    "                            else:\n",
    "                                merger_ratio_stellar = all_merger_histories[sim][step][halo]['merger_info']['merger_ratio_stellar_only']\n",
    "                                if merger_ratio_stellar:\n",
    "                                    #if merger_ratio_stellar < 4:\n",
    "                                        times.append(all_merger_histories[sim][step][halo]['final_state']['time'])\n",
    "                                        ratios.append(merger_ratio_stellar)\n",
    "                                             \n",
    "                halo = all_merger_histories[sim][step][halo]['merger_info']['main_progenitor']\n",
    "                if halo == None:\n",
    "                    break\n",
    "            if len(ratios) > 0:\n",
    "                major_mergers[sim][str(halo_0)] = {'ratios': ratios, 'times': times}\n",
    "    print(f'Number of halos: {nhalos}')\n",
    "    print(major_mergers['cptmarvel']['3'])\n",
    "    #save to pickle file \n",
    "    with open(f'../DataFiles/major_mergers_{type}.pkl', 'wb') as f:\n",
    "        print(f'saving major mergers to {f}')\n",
    "        pickle.dump(major_mergers, f)\n",
    "        \n",
    "        \n",
    "    last_major_mergers = []\n",
    "    for sim in major_mergers.keys():\n",
    "        for halo in major_mergers[sim].keys():\n",
    "            #print(sim,halo,major_mergers[sim][halo]['time'][0])\n",
    "            #print(major_mergers[sim][halo]['time'])\n",
    "            last_major_mergers.append(major_mergers[sim][halo]['times'][-1])\n",
    "    \n",
    "    return last_major_mergers\n",
    "    \n",
    "    \n",
    "types = ['all','hybrid','stellar_only']\n",
    "\n",
    "\n",
    "#plot histogram\n",
    "fig, ax = plt.subplots(1, 1, figsize=(12, 12))\n",
    "\n",
    "#fix bins and bin range\n",
    "bins = np.linspace(0, 14, 20)\n",
    "ax.set_xlabel('Time of Last Major Merger (Gyr)')\n",
    "ax.set_ylabel('Number of Halos')\n",
    "for type in types:\n",
    "    last_major_mergers = plot_hist_last_major_mergers(all_merger_histories,type)\n",
    "    \n",
    "    n_total = len(last_major_mergers)\n",
    "    hist_values, bin_edges = np.histogram(\n",
    "                last_major_mergers,\n",
    "                bins=bins,\n",
    "                density=False\n",
    "            )\n",
    "    # For the second mask, make the counts negative\n",
    "    if type == 'hybrid':\n",
    "        hist_values = -hist_values\n",
    "\n",
    "    ax.bar(bin_edges[:-1],\n",
    "           hist_values,\n",
    "           width=np.diff(bin_edges),\n",
    "           alpha=1,\n",
    "           # color=color,\n",
    "           edgecolor='white',\n",
    "           label=f\"{type} (n={n_total})\",\n",
    "           linewidth=1,\n",
    "           align='edge'\n",
    "           )\n",
    "    #ax.set_yscale('symlog')\n",
    "    ax.yaxis.set_major_locator(plt.MultipleLocator(5))\n",
    "    ax.yaxis.set_minor_locator(plt.MultipleLocator(1))\n",
    "    yticks = ax.get_yticks()\n",
    "\n",
    "\n",
    "    # Set labels showing absolute values but maintain position\n",
    "    yticks = [int(tick) for tick in yticks]\n",
    "    ax.set_yticks(yticks)\n",
    "    ax.set_yticklabels([str(abs(int(tick))) for tick in yticks])\n",
    "\n",
    "    ax.tick_params(labelsize=20)\n",
    "    ax.set_ylabel('Count', fontsize=20)\n",
    "    ax.legend(fontsize = 20)\n",
    "    \n",
    "    "
   ]
  },
  {
   "cell_type": "code",
   "execution_count": 91,
   "id": "11c644678f5a2e6a",
   "metadata": {
    "ExecuteTime": {
     "end_time": "2025-02-19T22:34:47.775820Z",
     "start_time": "2025-02-19T22:34:47.768266Z"
    }
   },
   "outputs": [
    {
     "data": {
      "text/plain": [
       "[3.869786474911925,\n",
       " 5.584800745683497,\n",
       " 3.8697864749278645,\n",
       " 6.12074270540492,\n",
       " 9.33639446330919,\n",
       " 2.154772204155597,\n",
       " 13.195176572796413,\n",
       " 1.618830244543644,\n",
       " 0.9756998930109543,\n",
       " 2.261960596076191,\n",
       " 1.2972650687762897,\n",
       " 2.583525771852629,\n",
       " 4.834482002292368,\n",
       " 1.618830244543644,\n",
       " 8.371698935987348,\n",
       " 9.979524814939943,\n",
       " 0.9756998930057655,\n",
       " 5.477612353952037,\n",
       " 2.9050909476521642,\n",
       " 2.9050909476521642]"
      ]
     },
     "execution_count": 91,
     "metadata": {},
     "output_type": "execute_result"
    }
   ],
   "source": [
    "last_major_mergers"
   ]
  },
  {
   "cell_type": "code",
   "execution_count": 96,
   "id": "f257e4324dec5129",
   "metadata": {
    "ExecuteTime": {
     "end_time": "2025-02-19T23:05:15.439679Z",
     "start_time": "2025-02-19T23:05:15.430430Z"
    }
   },
   "outputs": [
    {
     "data": {
      "text/plain": [
       "{'final_state': {'mvir': np.float64(624260004.6409842),\n",
       "  'm_star': np.float64(0.0),\n",
       "  'snapshot': 4096,\n",
       "  'time': 13.731118532104414,\n",
       "  'n_star': np.int64(0)},\n",
       " 'merger_info': {'has_merger': False,\n",
       "  'dark_merger': None,\n",
       "  'merger_ratio': None,\n",
       "  'merger_ratio_stellar_only': None,\n",
       "  'main_progenitor': 19,\n",
       "  'main_progenitor_mvir': np.float64(483346000.0),\n",
       "  'minor_stellar_mvir': 0,\n",
       "  'total_minor_mvir': 0,\n",
       "  'progenitors': [],\n",
       "  'dark_progenitors': [],\n",
       "  'rejected_minor_progenitors': [],\n",
       "  'rejected_dark_progenitors': [],\n",
       "  'contribution_threshold': 50.0},\n",
       " 'progenitor_details': {'stellar': {11: {'matching_particles': 10530,\n",
       "    'percent_in_final': 11.234396671289876,\n",
       "    'percent_of_progenitor': 2.852375354176712,\n",
       "    'Mvir': np.float64(1785320000.0),\n",
       "    'n_star': np.int64(1954),\n",
       "    'npart': np.int64(369166),\n",
       "    'total_particles': 369166}},\n",
       "  'dark': {19: {'matching_particles': 90117,\n",
       "    'percent_in_final': 96.14531099967994,\n",
       "    'percent_of_progenitor': 90.64181611530763,\n",
       "    'Mvir': np.float64(483346000.0),\n",
       "    'n_star': np.int64(0),\n",
       "    'npart': np.int64(99421),\n",
       "    'total_particles': 99421,\n",
       "    'match_type': 'main progenitor'},\n",
       "   163: {'matching_particles': 1,\n",
       "    'percent_in_final': 0.001066894270777766,\n",
       "    'percent_of_progenitor': 0.014318442153493701,\n",
       "    'Mvir': np.float64(33958900.0),\n",
       "    'n_star': np.int64(0),\n",
       "    'npart': np.int64(6984),\n",
       "    'total_particles': 6984}}}}"
      ]
     },
     "execution_count": 96,
     "metadata": {},
     "output_type": "execute_result"
    }
   ],
   "source": [
    "all_merger_histories['cptmarvel'][4096][20]"
   ]
  },
  {
   "cell_type": "markdown",
   "id": "cdee2ed373a53d06",
   "metadata": {},
   "source": [
    "How to store information about the merger history of a halo? \n",
    "halo_id at z=0 as row index\n",
    "times (snapshots as colums)\n",
    "each cell contains a dictionary with the following keys:\n"
   ]
  },
  {
   "cell_type": "code",
   "execution_count": 269,
   "id": "b887e0db2038d41b",
   "metadata": {
    "ExecuteTime": {
     "end_time": "2025-02-12T19:18:38.084246Z",
     "start_time": "2025-02-12T19:18:38.078534Z"
    }
   },
   "outputs": [],
   "source": [
    "#get time of last major merger for each halo\n",
    "last_major_mergers = {}\n",
    "for halo in major_mergers.keys():\n",
    "    last_major_mergers[halo] = major_mergers[halo]['times'][-1]\n",
    "    "
   ]
  },
  {
   "cell_type": "code",
   "execution_count": 270,
   "id": "cad5d722d5c29e8c",
   "metadata": {
    "ExecuteTime": {
     "end_time": "2025-02-12T19:18:38.410387Z",
     "start_time": "2025-02-12T19:18:38.403249Z"
    }
   },
   "outputs": [
    {
     "data": {
      "text/plain": [
       "{2: 3.869786474911925, 3: 5.1560471779798815, 149: 5.1560471779798815}"
      ]
     },
     "execution_count": 270,
     "metadata": {},
     "output_type": "execute_result"
    }
   ],
   "source": [
    "last_major_mergers"
   ]
  },
  {
   "cell_type": "code",
   "execution_count": 285,
   "id": "d3d648f2ecde9428",
   "metadata": {
    "ExecuteTime": {
     "end_time": "2025-02-12T19:31:52.685317Z",
     "start_time": "2025-02-12T19:31:52.676943Z"
    }
   },
   "outputs": [
    {
     "data": {
      "text/plain": [
       "{'final_state': {'mvir': np.float64(5206363.345251479),\n",
       "  'm_star': np.float64(3916.6705995646803),\n",
       "  'snapshot': 4096,\n",
       "  'time': 13.731118532104414,\n",
       "  'n_star': np.int64(15)},\n",
       " 'merger_info': {'has_merger': False,\n",
       "  'merger_ratio': None,\n",
       "  'merger_ratio_stellar_only': None,\n",
       "  'merger_ratio_with_dark': None,\n",
       "  'main_progenitor': 5,\n",
       "  'main_progenitor_mvir': np.float64(5439430000.0),\n",
       "  'total_stellar_mvir': np.float64(5439430000.0),\n",
       "  'total_dark_mvir': 0,\n",
       "  'progenitors': [],\n",
       "  'dark_progenitors': [],\n",
       "  'rejected_minor_progenitors': [],\n",
       "  'rejected_dark_progenitors': [],\n",
       "  'contribution_threshold': 50.0},\n",
       " 'progenitor_details': {'stellar': {5: {'matching_particles': 796,\n",
       "    'percent_in_final': 100.0,\n",
       "    'percent_of_progenitor': 0.06465825351234031,\n",
       "    'Mvir': np.float64(5439430000.0),\n",
       "    'n_star': np.int64(45498),\n",
       "    'total_particles': 1231088}},\n",
       "  'dark': {}}}"
      ]
     },
     "execution_count": 285,
     "metadata": {},
     "output_type": "execute_result"
    }
   ],
   "source": [
    "history_df[4096][1196]"
   ]
  },
  {
   "cell_type": "code",
   "execution_count": 283,
   "id": "8ad5535d976fdc56",
   "metadata": {
    "ExecuteTime": {
     "end_time": "2025-02-12T19:30:35.037518Z",
     "start_time": "2025-02-12T19:30:35.025661Z"
    }
   },
   "outputs": [],
   "source": [
    "#find all splits in history_df\n",
    "splits = {}\n",
    "for halo in history_df[4096].keys():\n",
    "    halo_0 = halo\n",
    "    for step in steps:\n",
    "        try:\n",
    "            progenitor_details_stellar = history_df[step][halo]['progenitor_details']['stellar']\n",
    "        except:\n",
    "            progenitor_details_stellar = None\n",
    "        try:\n",
    "            progenitor_details_dark = history_df[step][halo]['progenitor_details']['dark']\n",
    "        except:\n",
    "            progenitor_details_dark = None\n",
    "        halo = history_df[step][halo]['merger_info']['main_progenitor']\n",
    "        if progenitor_details_stellar:\n",
    "            for progenitor in progenitor_details_stellar.keys():\n",
    "                try:\n",
    "                    if progenitor_details_stellar[progenitor]['match_type'] == 'split':\n",
    "                        splits[halo_0] = {'split_step': step, 'split_progenitor': progenitor}\n",
    "                except:\n",
    "                    continue\n",
    "        if progenitor_details_dark:\n",
    "            for progenitor in progenitor_details_dark.keys():\n",
    "                try:\n",
    "                    if progenitor_details_dark[progenitor]['match_type'] == 'split':\n",
    "                        splits[halo_0] = {'split_step': step, 'split_progenitor': progenitor}\n",
    "                except:\n",
    "                    continue\n",
    "        \n",
    "\n"
   ]
  },
  {
   "cell_type": "code",
   "execution_count": 284,
   "id": "5758701fd149d203",
   "metadata": {
    "ExecuteTime": {
     "end_time": "2025-02-12T19:30:35.855571Z",
     "start_time": "2025-02-12T19:30:35.850042Z"
    }
   },
   "outputs": [
    {
     "name": "stdout",
     "output_type": "stream",
     "text": [
      "{149: {'split_step': 4096, 'split_progenitor': 3}, 407: {'split_step': 4096, 'split_progenitor': 1}}\n"
     ]
    }
   ],
   "source": [
    "print(splits)"
   ]
  },
  {
   "cell_type": "code",
   "execution_count": null,
   "id": "d9536133d00c3817",
   "metadata": {},
   "outputs": [],
   "source": []
  }
 ],
 "metadata": {
  "kernelspec": {
   "display_name": "Python 3",
   "language": "python",
   "name": "python3"
  },
  "language_info": {
   "codemirror_mode": {
    "name": "ipython",
    "version": 2
   },
   "file_extension": ".py",
   "mimetype": "text/x-python",
   "name": "python",
   "nbconvert_exporter": "python",
   "pygments_lexer": "ipython2",
   "version": "2.7.6"
  }
 },
 "nbformat": 4,
 "nbformat_minor": 5
}
